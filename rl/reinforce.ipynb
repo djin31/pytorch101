{
 "cells": [
  {
   "cell_type": "code",
   "execution_count": 1,
   "metadata": {},
   "outputs": [],
   "source": [
    "import gym\n",
    "from IPython import display\n",
    "import matplotlib\n",
    "import matplotlib.pyplot as plt\n",
    "%matplotlib inline"
   ]
  },
  {
   "cell_type": "code",
   "execution_count": 2,
   "metadata": {},
   "outputs": [],
   "source": [
    "import torch\n",
    "import torch.nn as nn\n",
    "import torch.nn.functional as F\n",
    "import torchvision.transforms as T\n",
    "\n",
    "import numpy as np\n",
    "from tqdm import tqdm, trange"
   ]
  },
  {
   "cell_type": "code",
   "execution_count": 3,
   "metadata": {},
   "outputs": [],
   "source": [
    "torch.random.manual_seed(3120)\n",
    "np.random.seed(3120)"
   ]
  },
  {
   "cell_type": "code",
   "execution_count": 4,
   "metadata": {},
   "outputs": [],
   "source": [
    "class PolicyNetwork(nn.Module):\n",
    "    \"\"\"\n",
    "    A simple 2-layer MLP that outputs action probabilities given the current state\n",
    "    \"\"\"\n",
    "    def __init__(self, hidden_dims):\n",
    "        super(PolicyNetwork, self).__init__()\n",
    "        self.fc1 = nn.Linear(4,hidden_dims)\n",
    "        self.fc2 = nn.Linear(hidden_dims,2)\n",
    "    \n",
    "    def forward(self, x):\n",
    "        x = torch.relu(self.fc1(x))\n",
    "        x = self.fc2(x)\n",
    "        return torch.softmax(x,dim=1)"
   ]
  },
  {
   "cell_type": "code",
   "execution_count": 5,
   "metadata": {},
   "outputs": [],
   "source": [
    "class Trainer():\n",
    "    \"\"\"\n",
    "    Trainer class for our Policy network.\n",
    "    \"\"\"\n",
    "    def __init__(self, hidden_dims=32, lr=1e-3, discounting_factor=0.99, mean_smoothing_factor=0.5):\n",
    "        self.policy = PolicyNetwork(hidden_dims=hidden_dims)\n",
    "        self.optim = torch.optim.Adam(self.policy.parameters(), lr=lr)\n",
    "        self.env = gym.make('CartPole-v1').unwrapped\n",
    "        self.discounting_factor = discounting_factor\n",
    "        self.mean_smoothing_factor = mean_smoothing_factor\n",
    "        self.action_dim = self.env.action_space.n\n",
    "        self.eps = 1e-2\n",
    "    \n",
    "    def test_episode(self, show_display=False):\n",
    "        self.policy.eval()\n",
    "        with torch.no_grad():\n",
    "            total_reward = 0\n",
    "            state = torch.tensor(self.env.reset().astype(np.float32)).unsqueeze(0)\n",
    "            if show_display:\n",
    "                img = plt.imshow(self.env.render(mode='rgb_array')) # only call this once\n",
    "            done = False\n",
    "            ep_len=0\n",
    "            while(done==False):\n",
    "                if show_display:\n",
    "                    img.set_data(self.env.render(mode='rgb_array')) # just update the data\n",
    "                    display.display(plt.gcf())\n",
    "                    display.clear_output(wait=True)\n",
    "                ep_len+=1\n",
    "                action_probs = self.policy(state).numpy().flatten()\n",
    "                action = np.random.choice(np.arange(0,self.action_dim), p = action_probs)\n",
    "                state,reward,done,_ = self.env.step(action)\n",
    "                state = torch.tensor(state.astype(np.float32)).unsqueeze(0)\n",
    "                total_reward+=reward\n",
    "                if total_reward>5000:\n",
    "                    print(\"Reached Max Reward Limit!\")\n",
    "                    break\n",
    "            print(\"Reward received:\", total_reward)\n",
    "    \n",
    "    def run_epsiode(self):\n",
    "        \"\"\"\n",
    "        Run an episode in the environment using current policy and \n",
    "        store rewards received and log probabilities at each step\n",
    "        \"\"\"\n",
    "        self.policy.train()\n",
    "        state = torch.tensor(self.env.reset().astype(np.float32)).unsqueeze(0)\n",
    "        self.saved_log_probs = []\n",
    "        self.rewards = []\n",
    "        # do not go into infinite while loop during training\n",
    "        for step in range(2000):\n",
    "            action_probs = (self.policy(state).squeeze()+self.eps)/(1+self.action_dim*self.eps)\n",
    "            action = np.random.choice(np.arange(0,self.action_dim), p = action_probs.detach().cpu().numpy())\n",
    "            self.saved_log_probs.append(torch.log(action_probs)[action])\n",
    "            state, reward, done, _ = self.env.step(action)\n",
    "            state = torch.tensor(state.astype(np.float32)).unsqueeze(0)\n",
    "            self.rewards.append(reward)\n",
    "            if done:\n",
    "                break\n",
    "        # if we hit the end of limit, we upweight the weight so as to not unnecessarily penalize the model\n",
    "        if len(self.rewards)==2000:\n",
    "            self.rewards[-1]=10\n",
    "        return sum(self.rewards)\n",
    "    \n",
    "    def train_episode(self):\n",
    "        \"\"\"\n",
    "        Run one episode and train policy network using REINFORCE\n",
    "        using the discounted rewards and log probabilities of each action\n",
    "        \"\"\"\n",
    "        train_ep_reward = self.run_epsiode()\n",
    "        discounted_rewards = []\n",
    "        running_reward = 0\n",
    "        for r in self.rewards[::-1]:\n",
    "            running_reward=r+self.discounting_factor*running_reward\n",
    "            discounted_rewards.append(running_reward)\n",
    "        discounted_rewards = discounted_rewards[::-1]\n",
    "        \n",
    "        discounted_rewards = torch.tensor(discounted_rewards)\n",
    "        discounted_rewards = (discounted_rewards - discounted_rewards.mean())/ (discounted_rewards.std() + 1e-6)\n",
    "        \n",
    "        self.optim.zero_grad()\n",
    "        policy_loss=0\n",
    "        for log_prob,r in zip(self.saved_log_probs, discounted_rewards):\n",
    "            policy_loss-=(log_prob*r).sum()\n",
    "        policy_loss.backward()\n",
    "        self.optim.step()\n",
    "        return policy_loss.item(), train_ep_reward\n",
    "            \n",
    "        \n",
    "    def train(self, training_episodes):\n",
    "        loss_history = []\n",
    "        reward_history = []\n",
    "        epoch_iter = trange(training_episodes)\n",
    "        epoch_iter.set_description_str(\"Episodes completed\")\n",
    "        running_loss = 0\n",
    "        running_reward = 0\n",
    "        for epoch in epoch_iter:\n",
    "            self.eps = self.eps*0.9\n",
    "            loss,reward = self.train_episode()\n",
    "            \n",
    "            # smooth out the loss and reward\n",
    "            running_loss = self.mean_smoothing_factor*loss + (1-self.mean_smoothing_factor)*running_loss\n",
    "            running_reward = self.mean_smoothing_factor*reward + (1-self.mean_smoothing_factor)*running_reward\n",
    "            loss_history.append(running_loss)\n",
    "            reward_history.append(running_reward)\n",
    "            \n",
    "            epoch_iter.set_postfix_str(\"Loss:{}, Reward:{}\".format(round(running_loss,4), round(running_reward,4)))\n",
    "        return loss_history, reward_history\n",
    "    \n",
    "    def save_model(self, filename=\"policy.pth\"):\n",
    "        torch.save(self.policy.state_dict(), filename)\n",
    "    \n",
    "    def load_model(self, filename=\"policy.pth\"):\n",
    "        self.policy.load_state_dict(torch.load(filename))"
   ]
  },
  {
   "cell_type": "code",
   "execution_count": 6,
   "metadata": {},
   "outputs": [],
   "source": [
    "z = Trainer()"
   ]
  },
  {
   "cell_type": "markdown",
   "metadata": {},
   "source": [
    "Let's test a random policy and see how much reward it gets"
   ]
  },
  {
   "cell_type": "code",
   "execution_count": 7,
   "metadata": {},
   "outputs": [
    {
     "name": "stdout",
     "output_type": "stream",
     "text": [
      "Reward received: 20.0\n"
     ]
    },
    {
     "data": {
      "image/png": "[encoded data removed]",
      "text/plain": [
       "<Figure size 432x288 with 1 Axes>"
      ]
     },
     "metadata": {
      "needs_background": "light"
     },
     "output_type": "display_data"
    }
   ],
   "source": [
    "z.test_episode(show_display=True)"
   ]
  },
  {
   "cell_type": "markdown",
   "metadata": {},
   "source": [
    "As the training progresses the reward per episode increases and training episodes start becoming longer. The longer episodes lead to slower progression of episodes."
   ]
  },
  {
   "cell_type": "code",
   "execution_count": 8,
   "metadata": {},
   "outputs": [
    {
     "name": "stderr",
     "output_type": "stream",
     "text": [
      "Episodes completed: 100%|██████████| 1000/1000 [01:46<00:00,  9.39it/s, Loss:-4.8513, Reward:1669.8767]\n"
     ]
    }
   ],
   "source": [
    "loss,reward = z.train(training_episodes=1000)"
   ]
  },
  {
   "cell_type": "code",
   "execution_count": 9,
   "metadata": {},
   "outputs": [
    {
     "data": {
      "image/png": "[encoded data removed]",
      "text/plain": [
       "<Figure size 432x288 with 1 Axes>"
      ]
     },
     "metadata": {
      "needs_background": "light"
     },
     "output_type": "display_data"
    }
   ],
   "source": [
    "plt.plot(reward, \"-.\", label=\"Rewards\")\n",
    "plt.legend();"
   ]
  },
  {
   "cell_type": "code",
   "execution_count": 10,
   "metadata": {},
   "outputs": [],
   "source": [
    "z.save_model()"
   ]
  },
  {
   "cell_type": "markdown",
   "metadata": {},
   "source": [
    "Now, it is time to test the policy learned by our model. "
   ]
  },
  {
   "cell_type": "code",
   "execution_count": null,
   "metadata": {},
   "outputs": [
    {
     "data": {
      "image/png": "[encoded data removed]",
      "text/plain": [
       "<Figure size 432x288 with 1 Axes>"
      ]
     },
     "metadata": {},
     "output_type": "display_data"
    }
   ],
   "source": [
    "z.test_episode(show_display=True)"
   ]
  },
  {
   "cell_type": "code",
   "execution_count": null,
   "metadata": {},
   "outputs": [],
   "source": []
  }
 ],
 "metadata": {
  "kernelspec": {
   "display_name": "Python 3",
   "language": "python",
   "name": "python3"
  },
  "language_info": {
   "codemirror_mode": {
    "name": "ipython",
    "version": 3
   },
   "file_extension": ".py",
   "mimetype": "text/x-python",
   "name": "python",
   "nbconvert_exporter": "python",
   "pygments_lexer": "ipython3",
   "version": "3.7.5"
  }
 },
 "nbformat": 4,
 "nbformat_minor": 2
}
