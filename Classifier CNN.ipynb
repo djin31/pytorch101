{
 "cells": [
  {
   "cell_type": "code",
   "execution_count": 1,
   "metadata": {},
   "outputs": [],
   "source": [
    "import torch\n",
    "from torch import nn, optim\n",
    "from torch.utils.data import DataLoader\n",
    "\n",
    "# required due to an issue with CUDA on Windows (https://github.com/pytorch/pytorch/issues/17108)\n",
    "torch.cuda.current_device()\n",
    "\n",
    "# for loading MNIST data\n",
    "from torchvision import transforms, datasets"
   ]
  },
  {
   "cell_type": "code",
   "execution_count": 2,
   "metadata": {},
   "outputs": [],
   "source": [
    "from tqdm import tqdm_notebook as tqdm\n",
    "import numpy as np\n",
    "import matplotlib.pyplot as plt\n",
    "%matplotlib inline"
   ]
  },
  {
   "cell_type": "code",
   "execution_count": 4,
   "metadata": {},
   "outputs": [],
   "source": [
    "# if cuda device is available then run model on gpu\n",
    "if torch.cuda.is_available():\n",
    "    cuda_flag=True\n",
    "else:\n",
    "    cuda_flag=False"
   ]
  },
  {
   "cell_type": "markdown",
   "metadata": {},
   "source": [
    "### Setting up data loader\n",
    "\n",
    "Data loaders make our lives easier by providing an easy interface to access data in batches as well shuffle the data so that no bias due to grouping of examples creep in.\n",
    "\n",
    "Using torchvision's datasets module we can directly download MNIST dataset and transform it to give us images in the form of Tensors."
   ]
  },
  {
   "cell_type": "code",
   "execution_count": 5,
   "metadata": {},
   "outputs": [],
   "source": [
    "batch_size=64\n",
    "\n",
    "train_loader = torch.utils.data.DataLoader(datasets.MNIST('./dataset/', train=True, download=True,\n",
    "                             transform=transforms.ToTensor()), batch_size=batch_size, shuffle=True)\n",
    "\n",
    "test_loader = torch.utils.data.DataLoader(datasets.MNIST('./dataset/', train=False, download=True,\n",
    "                             transform=transforms.ToTensor()), batch_size=batch_size)"
   ]
  },
  {
   "cell_type": "markdown",
   "metadata": {},
   "source": [
    "### Class Definition for the Model\n",
    "\n",
    "We define a simple (yet good enough for our small problem) architecture of two convolutional layers followed by two fully connected layers and use ReLU activation. We also add max pooling in between convolutional layers. Lastly we return a softmax of output vector."
   ]
  },
  {
   "cell_type": "code",
   "execution_count": 6,
   "metadata": {},
   "outputs": [],
   "source": [
    "class clf_mnist(nn.Module):\n",
    "    def __init__(self, num_classes):\n",
    "        super(clf_mnist, self).__init__()\n",
    "        self.conv1 = nn.Conv2d(in_channels=1, out_channels=16, kernel_size=3, padding=1)\n",
    "        self.conv2 = nn.Conv2d(in_channels=16, out_channels=32, kernel_size=3, padding=1)\n",
    "        \n",
    "        self.fc1 = nn.Linear(32*7*7,256)\n",
    "        self.fc2 = nn.Linear(256,num_classes)\n",
    "        \n",
    "        self.pool = nn.MaxPool2d(kernel_size=2)\n",
    "    \n",
    "    def forward(self,x):\n",
    "        # 1*28*28 -> 16*14*14\n",
    "        x = torch.relu(self.conv1(x))\n",
    "        x = self.pool(x)\n",
    "        \n",
    "        # 16*14*14 -> 32*7*7\n",
    "        x = torch.relu(self.conv2(x))\n",
    "        x = self.pool(x)\n",
    "        \n",
    "        x = x.view(-1,32*7*7)\n",
    "        x = torch.relu(self.fc1(x))\n",
    "        x = torch.softmax(self.fc2(x),1)\n",
    "        return x"
   ]
  },
  {
   "cell_type": "markdown",
   "metadata": {},
   "source": [
    "### Training phase"
   ]
  },
  {
   "cell_type": "code",
   "execution_count": 22,
   "metadata": {},
   "outputs": [],
   "source": [
    "# instantiate the model\n",
    "model = clf_mnist(10)\n",
    "if cuda_flag:\n",
    "    model = model.cuda()"
   ]
  },
  {
   "cell_type": "code",
   "execution_count": 23,
   "metadata": {},
   "outputs": [],
   "source": [
    "# define optimizer to update the model parameters\n",
    "opt = optim.Adam(model.parameters())\n",
    "\n",
    "# define loss function\n",
    "crit = nn.CrossEntropyLoss()"
   ]
  },
  {
   "cell_type": "code",
   "execution_count": 24,
   "metadata": {},
   "outputs": [],
   "source": [
    "epochs = 5\n",
    "loss_history = []"
   ]
  },
  {
   "cell_type": "code",
   "execution_count": 25,
   "metadata": {},
   "outputs": [
    {
     "data": {
      "application/vnd.jupyter.widget-view+json": {
       "model_id": "3b887781cc6f4d089f230b48a93dfa37",
       "version_major": 2,
       "version_minor": 0
      },
      "text/plain": [
       "HBox(children=(IntProgress(value=0, max=5), HTML(value='')))"
      ]
     },
     "metadata": {},
     "output_type": "display_data"
    },
    {
     "name": "stdout",
     "output_type": "stream",
     "text": [
      "Epoch:0 Train Loss:1.46e+03 Train Accuracy:0.91\n",
      "Epoch:1 Train Loss:1.4e+03 Train Accuracy:0.97\n",
      "Epoch:2 Train Loss:1.39e+03 Train Accuracy:0.98\n",
      "Epoch:3 Train Loss:1.39e+03 Train Accuracy:0.98\n",
      "Epoch:4 Train Loss:1.38e+03 Train Accuracy:0.99\n"
     ]
    }
   ],
   "source": [
    "for epoch in tqdm(range(epochs)):\n",
    "    train_loss=0\n",
    "    accuracy = 0\n",
    "    \n",
    "    # iterate over dataset\n",
    "    for x,y in train_loader:\n",
    "        \n",
    "        # zero_grad to ensure no unaccounted calculation creeps in while calculating gradients\n",
    "        opt.zero_grad()\n",
    "        \n",
    "        # move data to gpu if cuda_flag is set\n",
    "        if cuda_flag:\n",
    "            x,y = x.cuda(), y.cuda()\n",
    "        \n",
    "        # forward propogation and loss computation\n",
    "        y_pred = model(x)\n",
    "        loss = crit(y_pred,y)\n",
    "        train_loss+=loss.item()\n",
    "        \n",
    "        # backpropogate gradients\n",
    "        loss.backward()\n",
    "        \n",
    "        # update weights\n",
    "        opt.step()\n",
    "\n",
    "        # find class with maximum probability for each example and calculate accuracy\n",
    "        _, predicted = torch.max(y_pred, 1)\n",
    "        accuracy += (predicted == y).sum().item()\n",
    "    \n",
    "    accuracy = accuracy*100/(batch_size*len(train_loader))\n",
    "    print (\"Epoch:{} Train Loss:{:.3} Train Accuracy:{:.2}\".format(epoch,train_loss,accuracy))\n",
    "    loss_history.append(train_loss)"
   ]
  },
  {
   "cell_type": "code",
   "execution_count": 26,
   "metadata": {},
   "outputs": [
    {
     "data": {
      "text/plain": [
       "<matplotlib.legend.Legend at 0x2109844cf60>"
      ]
     },
     "execution_count": 26,
     "metadata": {},
     "output_type": "execute_result"
    },
    {
     "data": {
      "image/png": "[encoded data removed]",
      "text/plain": [
       "<Figure size 432x288 with 1 Axes>"
      ]
     },
     "metadata": {
      "needs_background": "light"
     },
     "output_type": "display_data"
    }
   ],
   "source": [
    "# Plot loss function to see how the training proceeded, useful while debugging models\n",
    "plt.plot(loss_history, \".-\", label=\"Train Loss\")\n",
    "plt.legend()"
   ]
  },
  {
   "cell_type": "markdown",
   "metadata": {},
   "source": [
    "### Testing Phase"
   ]
  },
  {
   "cell_type": "code",
   "execution_count": 27,
   "metadata": {},
   "outputs": [
    {
     "data": {
      "application/vnd.jupyter.widget-view+json": {
       "model_id": "f2b450352109416a828985ce5dd26484",
       "version_major": 2,
       "version_minor": 0
      },
      "text/plain": [
       "HBox(children=(IntProgress(value=0, max=157), HTML(value='')))"
      ]
     },
     "metadata": {},
     "output_type": "display_data"
    },
    {
     "name": "stdout",
     "output_type": "stream",
     "text": [
      "Test Accuracy: 0.9814888535031847\n"
     ]
    }
   ],
   "source": [
    "accuracy = 0\n",
    "\n",
    "for x,y in tqdm(test_loader):\n",
    "    if cuda_flag:\n",
    "        x,y = x.cuda(), y.cuda()\n",
    "    _, predicted = torch.max(model(x).detach(), 1) # detach to avoid accidental gradient packpropogation\n",
    "    correct = (predicted == y).sum()\n",
    "    accuracy += correct.item() \n",
    "    \n",
    "print (\"Test Accuracy:\",accuracy/(len(test_loader)*64))"
   ]
  },
  {
   "cell_type": "markdown",
   "metadata": {},
   "source": [
    "#### Visualising the classification performance"
   ]
  },
  {
   "cell_type": "code",
   "execution_count": null,
   "metadata": {},
   "outputs": [],
   "source": []
  }
 ],
 "metadata": {
  "kernelspec": {
   "display_name": "Python 3",
   "language": "python",
   "name": "python3"
  },
  "language_info": {
   "codemirror_mode": {
    "name": "ipython",
    "version": 3
   },
   "file_extension": ".py",
   "mimetype": "text/x-python",
   "name": "python",
   "nbconvert_exporter": "python",
   "pygments_lexer": "ipython3",
   "version": "3.7.3"
  }
 },
 "nbformat": 4,
 "nbformat_minor": 2
}
