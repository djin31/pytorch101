{
 "cells": [
  {
   "cell_type": "code",
   "execution_count": 1,
   "metadata": {},
   "outputs": [],
   "source": [
    "import torch\n",
    "from torch import nn, optim\n",
    "from torch.utils.data import DataLoader\n",
    "\n",
    "# for loading MNIST data\n",
    "from torchvision import transforms, datasets"
   ]
  },
  {
   "cell_type": "code",
   "execution_count": 2,
   "metadata": {},
   "outputs": [],
   "source": [
    "import numpy as np\n",
    "import matplotlib.pyplot as plt\n",
    "%matplotlib inline"
   ]
  },
  {
   "cell_type": "code",
   "execution_count": 3,
   "metadata": {},
   "outputs": [],
   "source": [
    "# if cuda device is available then run model on gpu\n",
    "if torch.cuda.is_available():\n",
    "    cuda_flag=True\n",
    "else:\n",
    "    cuda_flag=False"
   ]
  },
  {
   "cell_type": "markdown",
   "metadata": {},
   "source": [
    "### Setting up data loader\n",
    "\n",
    "Data loaders make our lives easier by providing an easy interface to access data in batches as well shuffle the data so that no bias due to unfortunate grouping of examples creep in. This also helps in stabilising the training.\n",
    "\n",
    "Using torchvision's datasets module we can directly download MNIST dataset and transform it to give us images in the form of Tensors."
   ]
  },
  {
   "cell_type": "code",
   "execution_count": 4,
   "metadata": {},
   "outputs": [],
   "source": [
    "batch_size=64\n",
    "\n",
    "train_loader = torch.utils.data.DataLoader(\n",
    "                datasets.MNIST('./dataset/', train=True, download=True, transform=transforms.ToTensor()), \n",
    "                batch_size=batch_size, shuffle=True)\n",
    "\n",
    "test_loader = torch.utils.data.DataLoader(\n",
    "                datasets.MNIST('./dataset/', train=False, download=True, transform=transforms.ToTensor()),\n",
    "                batch_size=batch_size)"
   ]
  },
  {
   "cell_type": "markdown",
   "metadata": {},
   "source": [
    "### Class Definition for the Model\n",
    "\n",
    "We define a simple (yet good enough for our small problem) architecture of two convolutional layers followed by two fully connected layers and use ReLU activation. We also add max pooling in between convolutional layers. Lastly we return a softmax of output vector."
   ]
  },
  {
   "cell_type": "code",
   "execution_count": 5,
   "metadata": {},
   "outputs": [],
   "source": [
    "class clf_mnist(nn.Module):\n",
    "    def __init__(self, num_classes):\n",
    "        super(clf_mnist, self).__init__()\n",
    "        # Since images are black and white we will have only 1 input channel\n",
    "        self.conv1 = nn.Conv2d(in_channels=1, out_channels=16, kernel_size=3, padding=1)\n",
    "        self.conv2 = nn.Conv2d(in_channels=16, out_channels=32, kernel_size=3, padding=1)\n",
    "        \n",
    "        self.fc1 = nn.Linear(32*7*7,256)\n",
    "        self.fc2 = nn.Linear(256,num_classes)\n",
    "        \n",
    "        self.pool = nn.MaxPool2d(kernel_size=2)\n",
    "    \n",
    "    def forward(self,x):\n",
    "        # 1*28*28 -> 16*28*28\n",
    "        x = torch.relu(self.conv1(x))\n",
    "        # 16*28*28 -> 16*14*14\n",
    "        x = self.pool(x)\n",
    "        \n",
    "        # 16*14*14 -> 32*14*14\n",
    "        x = torch.relu(self.conv2(x))\n",
    "        # 32*14*14 -> 32*7*7\n",
    "        x = self.pool(x)\n",
    "        \n",
    "        # flatten the image to pass it through fully connected layers\n",
    "        x = x.view(-1,32*7*7)\n",
    "        x = torch.relu(self.fc1(x))\n",
    "        # softmax gives probabilistic interpretation to class scores\n",
    "        x = torch.softmax(self.fc2(x),1)\n",
    "        return x"
   ]
  },
  {
   "cell_type": "markdown",
   "metadata": {},
   "source": [
    "### Training phase"
   ]
  },
  {
   "cell_type": "code",
   "execution_count": 6,
   "metadata": {},
   "outputs": [],
   "source": [
    "# instantiate the model\n",
    "model = clf_mnist(10)\n",
    "# move the model to gpu if gpu computation is available\n",
    "if cuda_flag:\n",
    "    model = model.cuda()"
   ]
  },
  {
   "cell_type": "code",
   "execution_count": 7,
   "metadata": {},
   "outputs": [],
   "source": [
    "# define optimizer to update the model parameters\n",
    "opt = optim.Adam(model.parameters())\n",
    "\n",
    "# define loss function\n",
    "crit = nn.CrossEntropyLoss()"
   ]
  },
  {
   "cell_type": "code",
   "execution_count": 8,
   "metadata": {},
   "outputs": [],
   "source": [
    "epochs = 10\n",
    "loss_history = []"
   ]
  },
  {
   "cell_type": "code",
   "execution_count": 9,
   "metadata": {},
   "outputs": [
    {
     "name": "stdout",
     "output_type": "stream",
     "text": [
      "Epoch:0\t Train Loss:1.55347\t Train Accuracy:91.34\n",
      "Epoch:1\t Train Loss:1.48925\t Train Accuracy:97.28\n",
      "Epoch:2\t Train Loss:1.48232\t Train Accuracy:97.91\n",
      "Epoch:3\t Train Loss:1.47764\t Train Accuracy:98.36\n",
      "Epoch:4\t Train Loss:1.47552\t Train Accuracy:98.54\n",
      "Epoch:5\t Train Loss:1.47369\t Train Accuracy:98.74\n",
      "Epoch:6\t Train Loss:1.47207\t Train Accuracy:98.88\n",
      "Epoch:7\t Train Loss:1.47112\t Train Accuracy:98.99\n",
      "Epoch:8\t Train Loss:1.47001\t Train Accuracy:99.08\n",
      "Epoch:9\t Train Loss:1.46886\t Train Accuracy:99.19\n"
     ]
    }
   ],
   "source": [
    "for epoch in range(epochs):\n",
    "    train_loss=0\n",
    "    accuracy = 0\n",
    "    \n",
    "    # set the model to train phase\n",
    "    model.train()\n",
    "    \n",
    "    # iterate over dataset\n",
    "    for x,y in train_loader:\n",
    "        \n",
    "        # zero_grad to ensure no unaccounted calculation creeps in while calculating gradients\n",
    "        opt.zero_grad()\n",
    "        \n",
    "        # move data to gpu if cuda_flag is set\n",
    "        if cuda_flag:\n",
    "            x,y = x.cuda(), y.cuda()\n",
    "        \n",
    "        # forward propogation and loss computation\n",
    "        y_pred = model(x)\n",
    "        loss = crit(y_pred,y)\n",
    "        train_loss+=loss.item()\n",
    "        \n",
    "        # backpropogate gradients\n",
    "        loss.backward()\n",
    "        \n",
    "        # update weights\n",
    "        opt.step()\n",
    "\n",
    "        # find class with maximum probability for each example and calculate accuracy\n",
    "        _, predicted = torch.max(y_pred, 1)\n",
    "        accuracy += (predicted == y).sum().item()\n",
    "    \n",
    "    train_loss/=len(train_loader)\n",
    "    accuracy = accuracy*100/(batch_size*len(train_loader))\n",
    "    print (\"Epoch:{}\\t Train Loss:{:.6}\\t Train Accuracy:{:.4}\".format(epoch,train_loss,accuracy))\n",
    "    loss_history.append(train_loss)"
   ]
  },
  {
   "cell_type": "code",
   "execution_count": 10,
   "metadata": {},
   "outputs": [
    {
     "data": {
      "image/png": "[encoded data removed]",
      "text/plain": [
       "<Figure size 432x288 with 1 Axes>"
      ]
     },
     "metadata": {
      "needs_background": "light"
     },
     "output_type": "display_data"
    }
   ],
   "source": [
    "# Plot loss function to see how the training proceeded, useful while debugging models\n",
    "plt.plot(loss_history, \".-\", label=\"Train Loss\")\n",
    "plt.legend()\n",
    "plt.show()"
   ]
  },
  {
   "cell_type": "code",
   "execution_count": 11,
   "metadata": {},
   "outputs": [],
   "source": [
    "# save your model\n",
    "torch.save(model.state_dict(),\"./classifier.pth\")"
   ]
  },
  {
   "cell_type": "markdown",
   "metadata": {},
   "source": [
    "### Testing Phase"
   ]
  },
  {
   "cell_type": "code",
   "execution_count": 12,
   "metadata": {},
   "outputs": [],
   "source": [
    "# load the model\n",
    "model = clf_mnist(10)\n",
    "model.load_state_dict(torch.load(\"./classifier.pth\"))\n",
    "# set the model to eval phase\n",
    "model.eval()\n",
    "if cuda_flag:\n",
    "    model = model.cuda()"
   ]
  },
  {
   "cell_type": "code",
   "execution_count": 13,
   "metadata": {},
   "outputs": [
    {
     "name": "stdout",
     "output_type": "stream",
     "text": [
      "Test Accuracy: 0.9893\n"
     ]
    }
   ],
   "source": [
    "accuracy = 0\n",
    "num_examples = 0\n",
    "with torch.no_grad():\n",
    "    for x,y in (test_loader):\n",
    "        if cuda_flag:\n",
    "            x,y = x.cuda(), y.cuda()\n",
    "        _, predicted = torch.max(model(x).detach(), 1) # detach to avoid accidental gradient backpropogation\n",
    "        num_examples+=len(predicted)\n",
    "        correct = (predicted == y).sum()\n",
    "        accuracy += correct.item() \n",
    "    \n",
    "print (\"Test Accuracy:\",accuracy/num_examples)"
   ]
  },
  {
   "cell_type": "markdown",
   "metadata": {},
   "source": [
    "Our model performs great on the test data! Yippee!\n",
    "\n",
    "However what if it didn't perform well. How should one debug it?\n",
    "#### Visualising the classification performance\n",
    "Just getting the accuracy of the model doesn't give us insight into what exactly the model is doing wrong so that we can improve it. For getting a better understanding of model's classification performance we will use a confusion matrix which allows us a more fine grained analysis of model's performance."
   ]
  },
  {
   "cell_type": "code",
   "execution_count": 14,
   "metadata": {},
   "outputs": [],
   "source": [
    "# firstly we collect the individual predictions and their true label\n",
    "test_predictions = []\n",
    "test_gold = []\n",
    "with torch.no_grad():\n",
    "    for x,y in (test_loader):\n",
    "        if cuda_flag:\n",
    "            x = x.cuda()\n",
    "        _, predicted = torch.max(model(x).detach(), 1) # detach to avoid accidental gradient backpropogation\n",
    "        test_predictions.append(predicted.cpu().numpy())\n",
    "        test_gold.append(y.numpy())\n",
    "\n",
    "test_predictions = np.concatenate(test_predictions)\n",
    "test_gold = np.concatenate(test_gold)"
   ]
  },
  {
   "cell_type": "code",
   "execution_count": 15,
   "metadata": {},
   "outputs": [],
   "source": [
    "# load sklearn's module for confusion matrix\n",
    "from sklearn.metrics import confusion_matrix"
   ]
  },
  {
   "cell_type": "code",
   "execution_count": 16,
   "metadata": {},
   "outputs": [
    {
     "data": {
      "image/png": "[encoded data removed]",
      "text/plain": [
       "<Figure size 720x576 with 2 Axes>"
      ]
     },
     "metadata": {
      "needs_background": "light"
     },
     "output_type": "display_data"
    }
   ],
   "source": [
    "# generate confusion matrix\n",
    "conf_mat = confusion_matrix(test_gold, test_predictions)\n",
    "\n",
    "# plot the matrix\n",
    "fig = plt.figure(figsize=(10,8))\n",
    "ax = fig.add_subplot(111)\n",
    "cax = ax.matshow(conf_mat, cmap=\"Blues\")\n",
    "\n",
    "# add text to the plot\n",
    "for (i, j), z in np.ndenumerate(conf_mat):\n",
    "    ax.text(j, i, '{:0.1f}'.format(z), fontsize=13, ha='center', va='center', color=\"white\" if conf_mat[i, j] > 100 else \"black\")\n",
    "\n",
    "# add colorbar for reference\n",
    "fig.colorbar(cax)\n",
    "\n",
    "# add labels to plot\n",
    "plt.xlabel(\"Predicted\")\n",
    "plt.ylabel(\"True\")\n",
    "plt.show()"
   ]
  },
  {
   "cell_type": "markdown",
   "metadata": {},
   "source": [
    "The intensity of colors concentrated on the diagonal shows that our model is very accurate. You may find more detailed confusion matrix plotting techniques [here](https://medium.com/@deepanshujindal.99/how-to-plot-wholesome-confusion-matrix-40134fd402a8) ."
   ]
  }
 ],
 "metadata": {
  "kernelspec": {
   "display_name": "Python 3",
   "language": "python",
   "name": "python3"
  },
  "language_info": {
   "codemirror_mode": {
    "name": "ipython",
    "version": 3
   },
   "file_extension": ".py",
   "mimetype": "text/x-python",
   "name": "python",
   "nbconvert_exporter": "python",
   "pygments_lexer": "ipython3",
   "version": "3.7.4"
  }
 },
 "nbformat": 4,
 "nbformat_minor": 2
}
